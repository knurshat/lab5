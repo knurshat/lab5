{
 "cells": [
  {
   "cell_type": "code",
   "execution_count": 1,
   "metadata": {},
   "outputs": [
    {
     "name": "stdout",
     "output_type": "stream",
     "text": [
      "Совпадение: a\n",
      "Совпадение: ab\n",
      "Совпадение: abb\n",
      "Не совпадает: b\n",
      "Не совпадает: abc\n",
      "Не совпадает: aab\n",
      "Не совпадает: ba\n"
     ]
    }
   ],
   "source": [
    "#task 1\n",
    "import re\n",
    "\n",
    "pattern = r\"ab*\"\n",
    "\n",
    "strings = [\"a\", \"ab\", \"abb\", \"b\", \"abc\", \"aab\", \"ba\"]\n",
    "\n",
    "for s in strings:\n",
    "    if re.fullmatch(pattern, s):\n",
    "        print(f\"Совпадение: {s}\")\n",
    "    else:\n",
    "        print(f\"Не совпадает: {s}\")"
   ]
  },
  {
   "cell_type": "code",
   "execution_count": 2,
   "metadata": {},
   "outputs": [
    {
     "name": "stdout",
     "output_type": "stream",
     "text": [
      "Yes for abb\n",
      "No, for abbc\n",
      "Yes for abbb\n",
      "No, for aabb\n",
      "No, for abbbb\n"
     ]
    }
   ],
   "source": [
    "#task 2\n",
    "import re\n",
    "\n",
    "pattern = r\"ab{2,3}\"\n",
    "\n",
    "strings = [\"abb\", \"abbc\", \"abbb\", \"aabb\", \"abbbb\"]\n",
    "\n",
    "for s in strings:\n",
    "    if re.fullmatch(pattern, s):\n",
    "        print(f\"Yes for {s}\")\n",
    "    else:\n",
    "        print(f\"No, for {s}\")"
   ]
  },
  {
   "cell_type": "code",
   "execution_count": 3,
   "metadata": {},
   "outputs": [
    {
     "name": "stdout",
     "output_type": "stream",
     "text": [
      "['user_name', 'total_price']\n"
     ]
    }
   ],
   "source": [
    "#task 3\n",
    "import re\n",
    "\n",
    "pattern = r\"\\b[a-z]+(?:_[a-z]+)*\\b\"\n",
    "\n",
    "text = \" user_name, total_price, my_var123 CamelCase, и23_invalid, snakeCase.\"\n",
    "matches = re.findall(pattern, text)\n",
    "\n",
    "print(matches)"
   ]
  },
  {
   "cell_type": "code",
   "execution_count": 6,
   "metadata": {},
   "outputs": [
    {
     "name": "stdout",
     "output_type": "stream",
     "text": [
      "['Iam', 'Pizza']\n"
     ]
    }
   ],
   "source": [
    "#task 4\n",
    "import re\n",
    "\n",
    "pattern = r\"[A-Z]{1}[a-z]+\"\n",
    "\n",
    "text = \"Iam love big Pizza\"\n",
    "\n",
    "d = re.findall(pattern, text)\n",
    "print(d)"
   ]
  },
  {
   "cell_type": "code",
   "execution_count": 4,
   "metadata": {},
   "outputs": [
    {
     "name": "stdout",
     "output_type": "stream",
     "text": [
      "no tatta\n",
      "no  papapap\n",
      "no scraaaa\n",
      "yes abb\n",
      "yes arab\n"
     ]
    }
   ],
   "source": [
    "#task 5\n",
    "import re\n",
    "\n",
    "pattern = r\"^a.*b$\"\n",
    "\n",
    "text = [\"tatta\",\" papapap\", \"scraaaa\", \"abb\", \"arab\"]\n",
    "for word in text:\n",
    "    if re.fullmatch(pattern, word):\n",
    "        print(f\"yes {word}\")\n",
    "    else:\n",
    "        print(f\"no {word}\")"
   ]
  },
  {
   "cell_type": "code",
   "execution_count": 5,
   "metadata": {},
   "outputs": [
    {
     "name": "stdout",
     "output_type": "stream",
     "text": [
      "as; as; as; addd; df\n"
     ]
    }
   ],
   "source": [
    "#task 6\n",
    "import re\n",
    "\n",
    "text = \"as as as addd  df\"\n",
    "\n",
    "ew_text = re.sub(r\"\\s+\", \"; \", text)\n",
    "print(ew_text)"
   ]
  },
  {
   "cell_type": "code",
   "execution_count": 8,
   "metadata": {},
   "outputs": [
    {
     "name": "stdout",
     "output_type": "stream",
     "text": [
      "helloWorldExample\n"
     ]
    }
   ],
   "source": [
    "#task 7\n",
    "import re\n",
    "\n",
    "def snake_to_camel(s):\n",
    "    return re.sub(r'_([a-z])', lambda x: x.group(1).upper(), s)\n",
    "\n",
    "print(snake_to_camel(\"hello_world_example\"))"
   ]
  },
  {
   "cell_type": "code",
   "execution_count": 11,
   "metadata": {},
   "outputs": [
    {
     "name": "stdout",
     "output_type": "stream",
     "text": [
      "['I', 'Am', 'Betman']\n"
     ]
    }
   ],
   "source": [
    "#task 8\n",
    "import re\n",
    "\n",
    "def split_at_upper(s):\n",
    "    return re.findall(r'[A-Z][^A-Z]*', s)\n",
    "\n",
    "print(split_at_upper(\"IAmBetman\"))"
   ]
  },
  {
   "cell_type": "code",
   "execution_count": 14,
   "metadata": {},
   "outputs": [
    {
     "name": "stdout",
     "output_type": "stream",
     "text": [
      "I am Iron-man\n"
     ]
    }
   ],
   "source": [
    "#task 9\n",
    "import re\n",
    "\n",
    "def insert_spaces(s):\n",
    "    return re.sub(r'(?<=[a-z])([A-Z])', r' \\1', s)\n",
    "\n",
    "print(insert_spaces(\"I amIron-man\"))"
   ]
  },
  {
   "cell_type": "code",
   "execution_count": 16,
   "metadata": {},
   "outputs": [
    {
     "name": "stdout",
     "output_type": "stream",
     "text": [
      "you_are_my_fire\n"
     ]
    }
   ],
   "source": [
    "#task 10\n",
    "import re\n",
    "\n",
    "def camel_to_snake(s):\n",
    "    return re.sub(r'([a-z])([A-Z])', r'\\1_\\2', s).lower()\n",
    "\n",
    "print(camel_to_snake(\"YouAreMyFire\"))"
   ]
  }
 ],
 "metadata": {
  "kernelspec": {
   "display_name": "Python 3",
   "language": "python",
   "name": "python3"
  },
  "language_info": {
   "codemirror_mode": {
    "name": "ipython",
    "version": 3
   },
   "file_extension": ".py",
   "mimetype": "text/x-python",
   "name": "python",
   "nbconvert_exporter": "python",
   "pygments_lexer": "ipython3",
   "version": "3.13.2"
  }
 },
 "nbformat": 4,
 "nbformat_minor": 2
}
